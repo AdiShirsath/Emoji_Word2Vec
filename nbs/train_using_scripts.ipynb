{
  "nbformat": 4,
  "nbformat_minor": 0,
  "metadata": {
    "colab": {
      "name": "train_using_scripts.ipynb",
      "provenance": [],
      "collapsed_sections": []
    },
    "kernelspec": {
      "name": "python3",
      "display_name": "Python 3"
    },
    "language_info": {
      "name": "python"
    }
  },
  "cells": [
    {
      "cell_type": "markdown",
      "metadata": {
        "id": "gXhjysM7HluQ"
      },
      "source": [
        "# Training word2vec on twitter dataset"
      ]
    },
    {
      "cell_type": "code",
      "metadata": {
        "id": "XnpAlB57Gd8B"
      },
      "source": [
        "from sklearn.model_selection import train_test_split\n",
        "import pickle \n",
        "import pandas as pd\n",
        "import os\n",
        "from gensim.models import Word2Vec"
      ],
      "execution_count": 1,
      "outputs": []
    },
    {
      "cell_type": "markdown",
      "metadata": {
        "id": "kLgqWyFKkMPi"
      },
      "source": [
        "### Train word2vec model on twitter data"
      ]
    },
    {
      "cell_type": "code",
      "metadata": {
        "id": "2D03SpkdICK5"
      },
      "source": [
        "os.chdir(\"/content/drive/MyDrive/ML/rnn/word2vec_emoji\")"
      ],
      "execution_count": 2,
      "outputs": []
    },
    {
      "cell_type": "code",
      "metadata": {
        "colab": {
          "base_uri": "https://localhost:8080/"
        },
        "id": "FhcBYriNbmjT",
        "outputId": "9de9f40e-2c0d-4933-d89a-3629454758eb"
      },
      "source": [
        "!python src/train_word2vec.py --help"
      ],
      "execution_count": 39,
      "outputs": [
        {
          "output_type": "stream",
          "name": "stdout",
          "text": [
            "usage: train_word2vec.py [-h] [--data_path DATA_PATH] [--size SIZE]\n",
            "                         [--window WINDOW] [--min_count MIN_COUNT]\n",
            "                         [--workers WORKERS] [--vocab_size VOCAB_SIZE]\n",
            "                         [--negative NEGATIVE]\n",
            "\n",
            "optional arguments:\n",
            "  -h, --help            show this help message and exit\n",
            "  --data_path DATA_PATH\n",
            "                        Path to text dataset which is expected to be .txt\n",
            "                        file.\n",
            "  --size SIZE           word2vec model's hidden layers size.\n",
            "  --window WINDOW       word2vec model's window\n",
            "  --min_count MIN_COUNT\n",
            "                        word2vec model's min_count\n",
            "  --workers WORKERS     word2vec model's window\n",
            "  --vocab_size VOCAB_SIZE\n",
            "                        word2vec vocab size\n",
            "  --negative NEGATIVE   negative samples\n"
          ]
        }
      ]
    },
    {
      "cell_type": "code",
      "metadata": {
        "id": "1v9PHQZk-szt",
        "colab": {
          "base_uri": "https://localhost:8080/"
        },
        "outputId": "c62a8d4d-d2a8-43dd-e4dd-f82cf93b7aa7"
      },
      "source": [
        "!python src/train_word2vec.py --data_path=\"Data/corpus.txt\" --size=300 --window=5 --min_count=10 --workers=4 --negative=5"
      ],
      "execution_count": 42,
      "outputs": [
        {
          "output_type": "stream",
          "name": "stdout",
          "text": [
            "training word2vec with Namespace(data_path='Data/corpus.txt', min_count=10, negative=5, size=300, vocab_size=None, window=5, workers=4)\n",
            "saving model\n"
          ]
        }
      ]
    },
    {
      "cell_type": "markdown",
      "metadata": {
        "id": "JFl3Li7ykTvy"
      },
      "source": [
        "### Get predictions for emojis"
      ]
    },
    {
      "cell_type": "code",
      "metadata": {
        "id": "fxTV_tdZjPzI"
      },
      "source": [
        "from src.prediction import Prediction"
      ],
      "execution_count": 17,
      "outputs": []
    },
    {
      "cell_type": "code",
      "metadata": {
        "id": "ohMeq5vYkhWy"
      },
      "source": [
        "predictor = Prediction(model_path=\"src/models/word2vec4.bin\")"
      ],
      "execution_count": 45,
      "outputs": []
    },
    {
      "cell_type": "code",
      "metadata": {
        "colab": {
          "base_uri": "https://localhost:8080/"
        },
        "id": "YbPzuD4N_qVJ",
        "outputId": "bf20fc1f-15c6-45cb-8bcc-41317843b7fc"
      },
      "source": [
        "predictor.getPrediction(pos=\"cat\", emoji_only=True)"
      ],
      "execution_count": 46,
      "outputs": [
        {
          "output_type": "execute_result",
          "data": {
            "text/plain": [
              "[('🐱', 0.646553099155426),\n",
              " ('🐈', 0.5324569940567017),\n",
              " ('🐶', 0.4572571814060211),\n",
              " ('🐭', 0.36624863743782043),\n",
              " ('🐕', 0.3622549772262573),\n",
              " ('🐰', 0.34097522497177124),\n",
              " ('🐩', 0.32535815238952637),\n",
              " ('😻', 0.3226172924041748)]"
            ]
          },
          "metadata": {},
          "execution_count": 46
        }
      ]
    },
    {
      "cell_type": "code",
      "metadata": {
        "colab": {
          "base_uri": "https://localhost:8080/"
        },
        "id": "I0QSncvsk2Bo",
        "outputId": "948f06a0-19a6-4660-c250-267ad35cd0a5"
      },
      "source": [
        "predictor.getPrediction(pos=\"cat\", emoji_only=True)"
      ],
      "execution_count": 47,
      "outputs": [
        {
          "output_type": "execute_result",
          "data": {
            "text/plain": [
              "[('🐱', 0.646553099155426),\n",
              " ('🐈', 0.5324569940567017),\n",
              " ('🐶', 0.4572571814060211),\n",
              " ('🐭', 0.36624863743782043),\n",
              " ('🐕', 0.3622549772262573),\n",
              " ('🐰', 0.34097522497177124),\n",
              " ('🐩', 0.32535815238952637),\n",
              " ('😻', 0.3226172924041748)]"
            ]
          },
          "metadata": {},
          "execution_count": 47
        }
      ]
    },
    {
      "cell_type": "code",
      "metadata": {
        "colab": {
          "base_uri": "https://localhost:8080/"
        },
        "id": "nlzsJ54cluJt",
        "outputId": "7e9aae25-31cc-4613-e108-11ae840be598"
      },
      "source": [
        "predictor.getPrediction(pos=\"broke\", emoji_only=True)"
      ],
      "execution_count": 48,
      "outputs": [
        {
          "output_type": "execute_result",
          "data": {
            "text/plain": [
              "[('😭', 0.41767802834510803),\n",
              " ('💀', 0.3983471691608429),\n",
              " ('😩', 0.3708803057670593),\n",
              " ('🚮', 0.3530346751213074),\n",
              " ('🙄', 0.3480338752269745),\n",
              " ('😤', 0.33949151635169983),\n",
              " ('😂', 0.3224979043006897),\n",
              " ('💔', 0.32222121953964233),\n",
              " ('😑', 0.3209999203681946),\n",
              " ('😐', 0.3200664520263672),\n",
              " ('😒', 0.31943196058273315),\n",
              " ('🙃', 0.3131222724914551),\n",
              " ('😪', 0.31249216198921204),\n",
              " ('😫', 0.3077697157859802),\n",
              " ('🤒', 0.29515308141708374),\n",
              " ('😕', 0.29288020730018616),\n",
              " ('💯', 0.291854590177536),\n",
              " ('💸', 0.2913130521774292),\n",
              " ('😖', 0.29010769724845886),\n",
              " ('🏌', 0.2857724726200104),\n",
              " ('😓', 0.28321224451065063),\n",
              " ('😔', 0.2779437303543091)]"
            ]
          },
          "metadata": {},
          "execution_count": 48
        }
      ]
    },
    {
      "cell_type": "code",
      "metadata": {
        "colab": {
          "base_uri": "https://localhost:8080/"
        },
        "id": "Mk2N4y0XmnMe",
        "outputId": "22a68492-14db-4814-868d-3293cbc1cb47"
      },
      "source": [
        "predictor.getPrediction(pos=\"cake\", emoji_only=True)"
      ],
      "execution_count": 49,
      "outputs": [
        {
          "output_type": "execute_result",
          "data": {
            "text/plain": [
              "[('🍰', 0.7112141251564026),\n",
              " ('🧀', 0.5774571895599365),\n",
              " ('🎂', 0.5486853718757629),\n",
              " ('🍖', 0.5420448780059814),\n",
              " ('🍝', 0.5398286581039429),\n",
              " ('🍫', 0.5373072028160095),\n",
              " ('🍪', 0.5362316370010376),\n",
              " ('🍞', 0.5303407311439514),\n",
              " ('🍚', 0.5089666843414307),\n",
              " ('🍤', 0.5054020881652832),\n",
              " ('🍮', 0.5007839202880859),\n",
              " ('🍔', 0.4943925142288208),\n",
              " ('🌯', 0.4926435947418213),\n",
              " ('🍜', 0.4918401837348938),\n",
              " ('🍛', 0.4744541049003601),\n",
              " ('🍲', 0.4719371497631073),\n",
              " ('🍌', 0.45822960138320923),\n",
              " ('🍟', 0.4499587118625641),\n",
              " ('🍍', 0.4442404806613922),\n",
              " ('🍳', 0.44404780864715576),\n",
              " ('🍋', 0.44189614057540894),\n",
              " ('🍡', 0.43670231103897095),\n",
              " ('🌭', 0.4355071783065796),\n",
              " ('🍇', 0.4322744309902191),\n",
              " ('🍼', 0.41948920488357544),\n",
              " ('🍗', 0.4125286340713501),\n",
              " ('🍣', 0.406379759311676),\n",
              " ('🍯', 0.4054545760154724),\n",
              " ('🍅', 0.3853513300418854),\n",
              " ('😋', 0.38439735770225525),\n",
              " ('🍱', 0.3837733566761017),\n",
              " ('🌽', 0.37885284423828125),\n",
              " ('🎁', 0.373563289642334),\n",
              " ('🍶', 0.37098848819732666),\n",
              " ('🍈', 0.37015286087989807),\n",
              " ('🍽', 0.369571328163147),\n",
              " ('🍐', 0.36878713965415955),\n",
              " ('🍢', 0.36866000294685364),\n",
              " ('🐷', 0.36791443824768066),\n",
              " ('🍠', 0.3666101098060608),\n",
              " ('🍦', 0.36591804027557373)]"
            ]
          },
          "metadata": {},
          "execution_count": 49
        }
      ]
    },
    {
      "cell_type": "code",
      "metadata": {
        "colab": {
          "base_uri": "https://localhost:8080/"
        },
        "id": "ivJ_gCy1mrq_",
        "outputId": "cdffc4b2-ba90-4a27-873c-76ee8f82e565"
      },
      "source": [
        "predictor.getPrediction(pos=\"happy birthday\", emoji_only=True)"
      ],
      "execution_count": 50,
      "outputs": [
        {
          "output_type": "execute_result",
          "data": {
            "text/plain": [
              "[('🎂', 0.5828697681427002),\n",
              " ('🎈', 0.5597606897354126),\n",
              " ('🎉', 0.4761180877685547),\n",
              " ('🎊', 0.42458921670913696),\n",
              " ('💘', 0.37494543194770813),\n",
              " ('💗', 0.3692004978656769),\n",
              " ('😘', 0.3394244909286499),\n",
              " ('🎁', 0.3365127444267273),\n",
              " ('💞', 0.3354981243610382),\n",
              " ('💖', 0.33199426531791687),\n",
              " ('💓', 0.3303772211074829),\n",
              " ('💕', 0.3193649351596832),\n",
              " ('😚', 0.3161160945892334),\n",
              " ('💜', 0.3084559142589569),\n",
              " ('💝', 0.2958551347255707),\n",
              " ('💐', 0.2948242425918579),\n",
              " ('💟', 0.28993913531303406),\n",
              " ('💙', 0.27523234486579895),\n",
              " ('😙', 0.27499625086784363),\n",
              " ('🍰', 0.2576941251754761),\n",
              " ('💛', 0.24958959221839905),\n",
              " ('😻', 0.24478691816329956),\n",
              " ('🤗', 0.2437189817428589),\n",
              " ('🍾', 0.2403097152709961),\n",
              " ('❤', 0.23027075827121735),\n",
              " ('🦄', 0.22660471498966217),\n",
              " ('🌹', 0.21441985666751862),\n",
              " ('👸', 0.21304695308208466),\n",
              " ('😽', 0.2109816074371338),\n",
              " ('👑', 0.2105635106563568),\n",
              " ('🎀', 0.20109213888645172),\n",
              " ('🍌', 0.19830679893493652),\n",
              " ('😍', 0.19626103341579437),\n",
              " ('🌻', 0.1934908628463745),\n",
              " ('☺', 0.19319063425064087),\n",
              " ('👶', 0.19050145149230957),\n",
              " ('😇', 0.1886754184961319),\n",
              " ('👭', 0.1871723085641861),\n",
              " ('🌼', 0.18539930880069733)]"
            ]
          },
          "metadata": {},
          "execution_count": 50
        }
      ]
    },
    {
      "cell_type": "markdown",
      "metadata": {
        "id": "BCCGxfr8zVmv"
      },
      "source": [
        "### Get similarity"
      ]
    },
    {
      "cell_type": "code",
      "metadata": {
        "colab": {
          "base_uri": "https://localhost:8080/"
        },
        "id": "aLFHJzlJzYai",
        "outputId": "3862afd1-384f-4006-e1c9-0b51c7a0db66"
      },
      "source": [
        "predictor.get_similarity(w1=\"😘\", w2=\"😙\")"
      ],
      "execution_count": 51,
      "outputs": [
        {
          "output_type": "execute_result",
          "data": {
            "text/plain": [
              "0.5593131"
            ]
          },
          "metadata": {},
          "execution_count": 51
        }
      ]
    },
    {
      "cell_type": "code",
      "metadata": {
        "colab": {
          "base_uri": "https://localhost:8080/"
        },
        "id": "6663mn7azg3p",
        "outputId": "8dad5ce8-1386-416a-f0c2-cca03cfe8b74"
      },
      "source": [
        "predictor.get_similarity(\"cat\", \"dog\")"
      ],
      "execution_count": 52,
      "outputs": [
        {
          "output_type": "execute_result",
          "data": {
            "text/plain": [
              "0.73376894"
            ]
          },
          "metadata": {},
          "execution_count": 52
        }
      ]
    },
    {
      "cell_type": "code",
      "metadata": {
        "colab": {
          "base_uri": "https://localhost:8080/"
        },
        "id": "1wEmKJzweJbv",
        "outputId": "b5172d37-5536-4e60-a970-b06dbd7b5540"
      },
      "source": [
        "predictor.get_similarity(\"cat\", \"🐱\")"
      ],
      "execution_count": 53,
      "outputs": [
        {
          "output_type": "execute_result",
          "data": {
            "text/plain": [
              "0.64655304"
            ]
          },
          "metadata": {},
          "execution_count": 53
        }
      ]
    },
    {
      "cell_type": "markdown",
      "metadata": {
        "id": "YW-gexKHzlPL"
      },
      "source": [
        "### Get vectors"
      ]
    },
    {
      "cell_type": "code",
      "metadata": {
        "id": "pmmoUBbfnV0x"
      },
      "source": [
        "vector = predictor.get_vector_embedding(\"😙\")\n",
        "vector"
      ],
      "execution_count": 54,
      "outputs": []
    },
    {
      "cell_type": "markdown",
      "metadata": {
        "id": "x_ELntKI06nl"
      },
      "source": [
        "# Visualize embeddings"
      ]
    },
    {
      "cell_type": "code",
      "metadata": {
        "id": "ghV5En37051n"
      },
      "source": [
        "os.chdir(\"/content/drive/MyDrive/ML/rnn/word2vec_emoji\")"
      ],
      "execution_count": 55,
      "outputs": []
    },
    {
      "cell_type": "code",
      "metadata": {
        "id": "TUUB_aw01NEe"
      },
      "source": [
        "model = Word2Vec.load(\"/content/drive/MyDrive/ML/rnn/word2vec_emoji/src/models/word2vec4.bin\")"
      ],
      "execution_count": 57,
      "outputs": []
    },
    {
      "cell_type": "code",
      "metadata": {
        "id": "CHgRTPjP1Vps"
      },
      "source": [
        "embd_weights = model.wv.vectors"
      ],
      "execution_count": 58,
      "outputs": []
    },
    {
      "cell_type": "code",
      "metadata": {
        "id": "ogAEV0DC3Iz2"
      },
      "source": [
        "vocab = model.wv.vocab.keys()"
      ],
      "execution_count": 59,
      "outputs": []
    },
    {
      "cell_type": "markdown",
      "metadata": {
        "id": "UoJXJ5BaOiee"
      },
      "source": [
        "### Save embeddings"
      ]
    },
    {
      "cell_type": "code",
      "metadata": {
        "id": "LgVgIH7xOdLK"
      },
      "source": [
        "import io\n",
        "from src.utils import is_emoji\n",
        "out_v = io.open('embd_vectors4.tsv', 'w', encoding='utf-8')\n",
        "out_m = io.open('embd_metadata4.tsv', 'w', encoding='utf-8')\n",
        "\n",
        "for index, word in enumerate(vocab):\n",
        "  if index == 0:\n",
        "    continue  # skip 0, it's padding.\n",
        "  vec = embd_weights[index]\n",
        "  out_v.write('\\t'.join([str(x) for x in vec]) + \"\\n\")\n",
        "  out_m.write(word + \"\\n\")\n",
        "out_v.close()\n",
        "out_m.close()"
      ],
      "execution_count": 60,
      "outputs": []
    },
    {
      "cell_type": "markdown",
      "metadata": {
        "id": "xzIBHRkCOese"
      },
      "source": [
        "### Save only emoji embeddings"
      ]
    },
    {
      "cell_type": "code",
      "metadata": {
        "id": "SPPcor4Y1fP9"
      },
      "source": [
        "import io\n",
        "from src.utils import is_emoji\n",
        "out_v = io.open('embd_vectors_emoji4.tsv', 'w', encoding='utf-8')\n",
        "out_m = io.open('embd_metadata_emoji4.tsv', 'w', encoding='utf-8')\n",
        "\n",
        "for index, word in enumerate(vocab):\n",
        " if is_emoji(word): \n",
        "  if index == 0:\n",
        "    continue  # skip 0, it's padding.\n",
        "  vec = embd_weights[index]\n",
        "  out_v.write('\\t'.join([str(x) for x in vec]) + \"\\n\")\n",
        "  out_m.write(word + \"\\n\")\n",
        "out_v.close()\n",
        "out_m.close()"
      ],
      "execution_count": 61,
      "outputs": []
    },
    {
      "cell_type": "code",
      "metadata": {
        "colab": {
          "base_uri": "https://localhost:8080/",
          "height": 17
        },
        "id": "gwvKjq1b4Efa",
        "outputId": "d84cc219-e979-4c1a-85ba-93b10e9ea947"
      },
      "source": [
        "# Download files locally to upload to Embedding Projector\n",
        "try:\n",
        "  from google.colab import files\n",
        "except ImportError:\n",
        "  pass\n",
        "else:\n",
        "  files.download(\"embd_vectors4.tsv\")\n",
        "  files.download(\"embd_metadata4.tsv\")"
      ],
      "execution_count": 63,
      "outputs": [
        {
          "output_type": "display_data",
          "data": {
            "application/javascript": [
              "\n",
              "    async function download(id, filename, size) {\n",
              "      if (!google.colab.kernel.accessAllowed) {\n",
              "        return;\n",
              "      }\n",
              "      const div = document.createElement('div');\n",
              "      const label = document.createElement('label');\n",
              "      label.textContent = `Downloading \"${filename}\": `;\n",
              "      div.appendChild(label);\n",
              "      const progress = document.createElement('progress');\n",
              "      progress.max = size;\n",
              "      div.appendChild(progress);\n",
              "      document.body.appendChild(div);\n",
              "\n",
              "      const buffers = [];\n",
              "      let downloaded = 0;\n",
              "\n",
              "      const channel = await google.colab.kernel.comms.open(id);\n",
              "      // Send a message to notify the kernel that we're ready.\n",
              "      channel.send({})\n",
              "\n",
              "      for await (const message of channel.messages) {\n",
              "        // Send a message to notify the kernel that we're ready.\n",
              "        channel.send({})\n",
              "        if (message.buffers) {\n",
              "          for (const buffer of message.buffers) {\n",
              "            buffers.push(buffer);\n",
              "            downloaded += buffer.byteLength;\n",
              "            progress.value = downloaded;\n",
              "          }\n",
              "        }\n",
              "      }\n",
              "      const blob = new Blob(buffers, {type: 'application/binary'});\n",
              "      const a = document.createElement('a');\n",
              "      a.href = window.URL.createObjectURL(blob);\n",
              "      a.download = filename;\n",
              "      div.appendChild(a);\n",
              "      a.click();\n",
              "      div.remove();\n",
              "    }\n",
              "  "
            ],
            "text/plain": [
              "<IPython.core.display.Javascript object>"
            ]
          },
          "metadata": {}
        },
        {
          "output_type": "display_data",
          "data": {
            "application/javascript": [
              "download(\"download_4c8fa89e-d43b-400e-83f6-582f963d109a\", \"embd_vectors4.tsv\", 81922794)"
            ],
            "text/plain": [
              "<IPython.core.display.Javascript object>"
            ]
          },
          "metadata": {}
        },
        {
          "output_type": "display_data",
          "data": {
            "application/javascript": [
              "\n",
              "    async function download(id, filename, size) {\n",
              "      if (!google.colab.kernel.accessAllowed) {\n",
              "        return;\n",
              "      }\n",
              "      const div = document.createElement('div');\n",
              "      const label = document.createElement('label');\n",
              "      label.textContent = `Downloading \"${filename}\": `;\n",
              "      div.appendChild(label);\n",
              "      const progress = document.createElement('progress');\n",
              "      progress.max = size;\n",
              "      div.appendChild(progress);\n",
              "      document.body.appendChild(div);\n",
              "\n",
              "      const buffers = [];\n",
              "      let downloaded = 0;\n",
              "\n",
              "      const channel = await google.colab.kernel.comms.open(id);\n",
              "      // Send a message to notify the kernel that we're ready.\n",
              "      channel.send({})\n",
              "\n",
              "      for await (const message of channel.messages) {\n",
              "        // Send a message to notify the kernel that we're ready.\n",
              "        channel.send({})\n",
              "        if (message.buffers) {\n",
              "          for (const buffer of message.buffers) {\n",
              "            buffers.push(buffer);\n",
              "            downloaded += buffer.byteLength;\n",
              "            progress.value = downloaded;\n",
              "          }\n",
              "        }\n",
              "      }\n",
              "      const blob = new Blob(buffers, {type: 'application/binary'});\n",
              "      const a = document.createElement('a');\n",
              "      a.href = window.URL.createObjectURL(blob);\n",
              "      a.download = filename;\n",
              "      div.appendChild(a);\n",
              "      a.click();\n",
              "      div.remove();\n",
              "    }\n",
              "  "
            ],
            "text/plain": [
              "<IPython.core.display.Javascript object>"
            ]
          },
          "metadata": {}
        },
        {
          "output_type": "display_data",
          "data": {
            "application/javascript": [
              "download(\"download_7d7b7336-7f79-4716-b6bc-f2cb86afebf1\", \"embd_metadata4.tsv\", 161968)"
            ],
            "text/plain": [
              "<IPython.core.display.Javascript object>"
            ]
          },
          "metadata": {}
        }
      ]
    },
    {
      "cell_type": "markdown",
      "metadata": {
        "id": "3l63y5JGXzDs"
      },
      "source": [
        "### Now we can use downloaded tsv file to visualize using [tensoflow's projector tool](https://projector.tensorflow.org/)"
      ]
    },
    {
      "cell_type": "code",
      "metadata": {
        "id": "EA_lH69xBKkd"
      },
      "source": [
        ""
      ],
      "execution_count": null,
      "outputs": []
    }
  ]
}
